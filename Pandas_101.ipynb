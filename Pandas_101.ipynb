{
 "cells": [
  {
   "cell_type": "code",
   "execution_count": 1,
   "id": "ab8d7b0d",
   "metadata": {},
   "outputs": [
    {
     "name": "stdout",
     "output_type": "stream",
     "text": [
      "1.5.3\n"
     ]
    }
   ],
   "source": [
    "import pandas as pd\n",
    "print(pd.__version__)"
   ]
  },
  {
   "cell_type": "markdown",
   "id": "0f9851d8",
   "metadata": {},
   "source": [
    "#### Series"
   ]
  },
  {
   "cell_type": "code",
   "execution_count": 2,
   "id": "632fdfbb",
   "metadata": {},
   "outputs": [
    {
     "name": "stdout",
     "output_type": "stream",
     "text": [
      "0    10\n",
      "1    20\n",
      "2    30\n",
      "3    40\n",
      "4    50\n",
      "dtype: int64\n",
      "0    1.1\n",
      "1    2.2\n",
      "2    3.3\n",
      "3    4.4\n",
      "4    5.5\n",
      "dtype: float64\n",
      "A    100\n",
      "B    200\n",
      "C    300\n",
      "D    400\n",
      "dtype: int64\n"
     ]
    }
   ],
   "source": [
    "# Creating a Series from a list\n",
    "data_list = [10, 20, 30, 40, 50]\n",
    "series_from_list = pd.Series(data_list)\n",
    "print(series_from_list)\n",
    "\n",
    "# Creating a Series from a NumPy array\n",
    "import numpy as np\n",
    "data_array = np.array([1.1, 2.2, 3.3, 4.4, 5.5])\n",
    "series_from_array = pd.Series(data_array)\n",
    "print(series_from_array)\n",
    "\n",
    "# Creating a Series from a dictionary\n",
    "data_dict = {'A': 100, 'B': 200, 'C': 300, 'D': 400}\n",
    "series_from_dict = pd.Series(data_dict)\n",
    "print(series_from_dict)"
   ]
  },
  {
   "cell_type": "code",
   "execution_count": 4,
   "id": "168dc41c",
   "metadata": {},
   "outputs": [
    {
     "name": "stdout",
     "output_type": "stream",
     "text": [
      "10\n",
      "3.3\n",
      "200\n",
      "20\n",
      "3.3\n"
     ]
    }
   ],
   "source": [
    "# Accessing series elements by index\n",
    "print(series_from_list[0])\n",
    "print(series_from_array[2])\n",
    "print(series_from_dict['B'])\n",
    "\n",
    "# Accessing elements by label-based index\n",
    "print(series_from_list.iloc[1])\n",
    "print(series_from_array.loc[2])"
   ]
  },
  {
   "cell_type": "code",
   "execution_count": null,
   "id": "00775dcf",
   "metadata": {},
   "outputs": [],
   "source": [
    "# Mathematical operations on series\n",
    "result = series_from_list + series_from_array\n",
    "print(result)\n",
    "\n",
    "# Conditional filtering\n",
    "filtered_series = series_from_list[series_from_list > 20]\n",
    "print(filtered_series)\n",
    "\n",
    "# Check for null values\n",
    "print(series_from_dict.isnull())"
   ]
  },
  {
   "cell_type": "markdown",
   "id": "a5749472",
   "metadata": {},
   "source": [
    "#### Dataframe"
   ]
  },
  {
   "cell_type": "code",
   "execution_count": 6,
   "id": "5a0d6c60",
   "metadata": {},
   "outputs": [
    {
     "name": "stdout",
     "output_type": "stream",
     "text": [
      "      Name  Age      City\n",
      "0    Alice   25  New York\n",
      "1      Bob   30    London\n",
      "2  Charlie   35     Paris\n",
      "3    David   40     Tokyo\n",
      "----------------\n",
      "      Name  Age      City\n",
      "0    Alice   25  New York\n",
      "1      Bob   30    London\n",
      "2  Charlie   35     Paris\n",
      "3    David   40     Tokyo\n"
     ]
    }
   ],
   "source": [
    "# Creating a DataFrame from a dictionary\n",
    "data_dict = {\n",
    "    'Name': ['Alice', 'Bob', 'Charlie', 'David'],\n",
    "    'Age': [25, 30, 35, 40],\n",
    "    'City': ['New York', 'London', 'Paris', 'Tokyo']\n",
    "}\n",
    "df = pd.DataFrame(data_dict)\n",
    "print(df)\n",
    "print(\"----------------\")\n",
    "# Creating a DataFrame from a list of dictionaries\n",
    "data_list_of_dicts = [\n",
    "    {'Name': 'Alice', 'Age': 25, 'City': 'New York'},\n",
    "    {'Name': 'Bob', 'Age': 30, 'City': 'London'},\n",
    "    {'Name': 'Charlie', 'Age': 35, 'City': 'Paris'},\n",
    "    {'Name': 'David', 'Age': 40, 'City': 'Tokyo'}\n",
    "]\n",
    "df_from_list_of_dicts = pd.DataFrame(data_list_of_dicts)\n",
    "print(df_from_list_of_dicts)\n",
    "\n",
    "# Creating a DataFrame from external data (e.g., CSV file)\n",
    "# df = pd.read_csv('data.csv')"
   ]
  },
  {
   "cell_type": "code",
   "execution_count": 9,
   "id": "5933e349",
   "metadata": {},
   "outputs": [
    {
     "name": "stdout",
     "output_type": "stream",
     "text": [
      "<class 'pandas.core.frame.DataFrame'>\n",
      "RangeIndex: 4 entries, 0 to 3\n",
      "Data columns (total 3 columns):\n",
      " #   Column  Non-Null Count  Dtype \n",
      "---  ------  --------------  ----- \n",
      " 0   Name    4 non-null      object\n",
      " 1   Age     4 non-null      int64 \n",
      " 2   City    4 non-null      object\n",
      "dtypes: int64(1), object(2)\n",
      "memory usage: 224.0+ bytes\n",
      "None\n",
      "             Age\n",
      "count   4.000000\n",
      "mean   32.500000\n",
      "std     6.454972\n",
      "min    25.000000\n",
      "25%    28.750000\n",
      "50%    32.500000\n",
      "75%    36.250000\n",
      "max    40.000000\n",
      "0      Alice\n",
      "1        Bob\n",
      "2    Charlie\n",
      "3      David\n",
      "Name: Name, dtype: object\n",
      "0    25\n",
      "1    30\n",
      "2    35\n",
      "3    40\n",
      "Name: Age, dtype: int64\n",
      "--------------\n",
      "Name       Alice\n",
      "Age           25\n",
      "City    New York\n",
      "Name: 0, dtype: object\n",
      "      Name  Age    City\n",
      "1      Bob   30  London\n",
      "2  Charlie   35   Paris\n",
      "--------------\n",
      "First row:\n",
      "Name       Alice\n",
      "Age           25\n",
      "City    New York\n",
      "Name: 0, dtype: object\n",
      "Rows 2 and 3:\n",
      "      Name  Age    City\n",
      "1      Bob   30  London\n",
      "2  Charlie   35   Paris\n"
     ]
    }
   ],
   "source": [
    "# Displaying basic information about the DataFrame\n",
    "print(df.info())\n",
    "\n",
    "# Displaying summary statistics\n",
    "print(df.describe())\n",
    "\n",
    "# Accessing specific columns\n",
    "print(df['Name'])\n",
    "print(df.Age)\n",
    "print(\"--------------\")\n",
    "# Accessing rows using iloc (integer-location based indexing)\n",
    "print(df.iloc[0])  # First row\n",
    "print(df.iloc[1:3])  # Rows 2 and 3\n",
    "print(\"--------------\")\n",
    "# Accessing rows using loc (label-location based indexing)\n",
    "print(\"First row:\")\n",
    "print(df.loc[0])  # First row\n",
    "print(\"Rows 2 and 3:\")\n",
    "print(df.loc[1:2])  # Rows 2 and 3\n"
   ]
  },
  {
   "cell_type": "code",
   "execution_count": 12,
   "id": "a595c47d",
   "metadata": {},
   "outputs": [],
   "source": [
    "# Reading data from a CSV file\n",
    "#df = pd.read_csv('data.csv')\n",
    "\n",
    "# Reading data from an Excel file\n",
    "#df = pd.read_excel('data.xlsx')\n",
    "\n",
    "# Reading data from a SQL database\n",
    "# import sqlite3\n",
    "# conn = sqlite3.connect('database.db')\n",
    "# df = pd.read_sql_query('SELECT * FROM table_name', conn)\n",
    "\n",
    "# Writing data to a CSV file\n",
    "#df.to_csv('output.csv', index=False)\n",
    "\n",
    "# Writing data to an Excel file\n",
    "#df.to_excel('output.xlsx', index=False)\n",
    "\n",
    "# Writing data to a SQL database\n",
    "# df.to_sql('table_name', conn, if_exists='replace', index=False)"
   ]
  },
  {
   "cell_type": "code",
   "execution_count": null,
   "id": "4379ccfb",
   "metadata": {},
   "outputs": [],
   "source": [
    "# Selecting a single column\n",
    "name_column = df['Name']\n",
    "print(name_column)\n",
    "\n",
    "# Selecting multiple columns\n",
    "name_age_columns = df[['Name', 'Age']]\n",
    "print(name_age_columns)"
   ]
  },
  {
   "cell_type": "code",
   "execution_count": null,
   "id": "1857b6b2",
   "metadata": {},
   "outputs": [],
   "source": [
    "# Filtering rows based on a condition\n",
    "filtered_df = df[df['Age'] > 30]\n",
    "print(filtered_df)\n",
    "\n",
    "# Multiple conditions (use & for AND, | for OR)\n",
    "filtered_df = df[(df['Age'] > 25) & (df['City'] == 'New York')]\n",
    "print(filtered_df)"
   ]
  },
  {
   "cell_type": "code",
   "execution_count": null,
   "id": "c28e1891",
   "metadata": {},
   "outputs": [],
   "source": [
    "# Adding a new column\n",
    "df['Salary'] = [50000, 60000, 70000, 80000]\n",
    "print(df)\n",
    "\n",
    "# Removing a column\n",
    "df = df.drop('Salary', axis=1)  # axis=1 means column-wise operation\n",
    "print(df)\n"
   ]
  },
  {
   "cell_type": "code",
   "execution_count": null,
   "id": "384c3af2",
   "metadata": {},
   "outputs": [],
   "source": [
    "# Applying a function to a column\n",
    "df['Age'] = df['Age'].apply(lambda x: x + 5)\n",
    "print(df)"
   ]
  },
  {
   "cell_type": "code",
   "execution_count": null,
   "id": "882bab64",
   "metadata": {},
   "outputs": [],
   "source": [
    "# Dropping duplicates\n",
    "df.drop_duplicates(subset=['Name'], keep='first', inplace=True)"
   ]
  },
  {
   "cell_type": "code",
   "execution_count": null,
   "id": "2d117a29",
   "metadata": {},
   "outputs": [],
   "source": [
    "Pandas provides various methods to handle missing data in DataFrames, such as dropna, fillna, and interpolate.\n",
    "\n",
    "# Creating a DataFrame with missing data\n",
    "data = {'A': [1, 2, np.nan, 4, 5],\n",
    "        'B': [6, np.nan, 8, 9, 10],\n",
    "        'C': [11, 12, 13, np.nan, 15]}\n",
    "df = pd.DataFrame(data)\n",
    "print(df)\n",
    "\n",
    "# Drop rows with any missing values\n",
    "df.dropna(inplace=True)\n",
    "print(df)\n",
    "\n",
    "# Fill missing values with a specific value\n",
    "df.fillna(0, inplace=True)\n",
    "print(df)\n",
    "\n",
    "# Fill missing values using interpolation\n",
    "df['A'] = df['A'].interpolate()\n",
    "print(df)\n",
    "Sorting Data:\n",
    "# Sorting by a single column\n",
    "df.sort_values(by='B', inplace=True)\n",
    "print(df)\n",
    "\n",
    "# Sorting by multiple columns\n",
    "df.sort_values(by=['B', 'C'], ascending=[False, True], inplace=True)\n",
    "print(df)"
   ]
  },
  {
   "cell_type": "code",
   "execution_count": null,
   "id": "0d846aa6",
   "metadata": {},
   "outputs": [],
   "source": [
    "# Grouping by a single column and calculating the mean of each group\n",
    "grouped_df = df.groupby('City')['Age'].mean()\n",
    "print(grouped_df)\n",
    "\n",
    "# Grouping by multiple columns and calculating the sum of each group\n",
    "grouped_df = df.groupby(['City', 'Gender'])['Salary'].sum()\n",
    "print(grouped_df)"
   ]
  },
  {
   "cell_type": "code",
   "execution_count": null,
   "id": "1b4aa69c",
   "metadata": {},
   "outputs": [],
   "source": [
    "# Creating two DataFrames\n",
    "data1 = {'ID': [1, 2, 3, 4],\n",
    "         'Name': ['Alice', 'Bob', 'Charlie', 'David']}\n",
    "data2 = {'ID': [1, 2, 3, 5],\n",
    "         'Age': [25, 30, 35, 40]}\n",
    "df1 = pd.DataFrame(data1)\n",
    "df2 = pd.DataFrame(data2)\n",
    "\n",
    "# Merging DataFrames (inner join)\n",
    "merged_df = pd.merge(df1, df2, on='ID', how='inner')\n",
    "print(merged_df)\n",
    "\n",
    "# Joining DataFrames (outer join)\n",
    "joined_df = df1.join(df2.set_index('ID'), on='ID', how='outer')\n",
    "print(joined_df)"
   ]
  },
  {
   "cell_type": "code",
   "execution_count": null,
   "id": "b46884f5",
   "metadata": {},
   "outputs": [],
   "source": [
    "# Creating a DataFrame with time series data\n",
    "date_rng = pd.date_range(start='2023-01-01', end='2023-01-10', freq='D')\n",
    "data = {'Date': date_rng,\n",
    "        'Temperature': [15, 20, 22, 18, 25, 28, 30, 29, 27, 23]}\n",
    "df = pd.DataFrame(data)\n",
    "print(df)\n",
    "\n",
    "# Setting the 'Date' column as the DataFrame's index\n",
    "df.set_index('Date', inplace=True)\n",
    "\n",
    "# Resampling time series data\n",
    "weekly_mean = df.resample('W').mean()\n",
    "print(weekly_mean)\n",
    "\n",
    "# Rolling window operations\n",
    "rolling_mean = df['Temperature'].rolling(window=3).mean()\n",
    "print(rolling_mean)"
   ]
  },
  {
   "cell_type": "markdown",
   "id": "b749ca65",
   "metadata": {},
   "source": [
    "https://medium.com/swlh/python-pandas-dataframe-tutorial-for-beginners-c59e8f206350\n",
    "\n",
    "https://blog.devgenius.io/transforming-data-with-pandas-a-step-by-step-tutorial-e1a2e26d2c74"
   ]
  }
 ],
 "metadata": {
  "kernelspec": {
   "display_name": "Python 3 (ipykernel)",
   "language": "python",
   "name": "python3"
  },
  "language_info": {
   "codemirror_mode": {
    "name": "ipython",
    "version": 3
   },
   "file_extension": ".py",
   "mimetype": "text/x-python",
   "name": "python",
   "nbconvert_exporter": "python",
   "pygments_lexer": "ipython3",
   "version": "3.10.9"
  }
 },
 "nbformat": 4,
 "nbformat_minor": 5
}
