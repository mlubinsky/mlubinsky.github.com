{
 "cells": [
  {
   "cell_type": "code",
   "execution_count": 1,
   "id": "5bfcd10c",
   "metadata": {},
   "outputs": [
    {
     "name": "stdout",
     "output_type": "stream",
     "text": [
      "Python /Users/mlubinsky/anaconda3/bin/python\n",
      "Numpy 1.23.5\n",
      "Pandas 1.5.3\n",
      "Seaborn 0.12.2\n",
      "Matplotlib 3.7.0\n",
      "module://matplotlib_inline.backend_inline\n"
     ]
    }
   ],
   "source": [
    "import sys\n",
    "import numpy as np\n",
    "import pandas as pd\n",
    "import matplotlib\n",
    "from matplotlib import pyplot as plt\n",
    "import seaborn as sns\n",
    "\n",
    "print(\"Python\", sys.executable)\n",
    "print(\"Numpy\", np.__version__)\n",
    "print(\"Pandas\",pd.__version__)\n",
    "print(\"Seaborn\",sns.__version__)\n",
    "print(\"Matplotlib\",matplotlib.__version__)\n",
    "print(\"Matplotlib backend\" matplotlib.get_backend())\n"
   ]
  },
  {
   "cell_type": "code",
   "execution_count": null,
   "id": "2bea25f7",
   "metadata": {},
   "outputs": [],
   "source": []
  }
 ],
 "metadata": {
  "kernelspec": {
   "display_name": "Python 3 (ipykernel)",
   "language": "python",
   "name": "python3"
  },
  "language_info": {
   "codemirror_mode": {
    "name": "ipython",
    "version": 3
   },
   "file_extension": ".py",
   "mimetype": "text/x-python",
   "name": "python",
   "nbconvert_exporter": "python",
   "pygments_lexer": "ipython3",
   "version": "3.10.9"
  }
 },
 "nbformat": 4,
 "nbformat_minor": 5
}
